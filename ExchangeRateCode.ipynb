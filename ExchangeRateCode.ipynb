{
  "nbformat": 4,
  "nbformat_minor": 0,
  "metadata": {
    "colab": {
      "name": "ExchangeRateCode.ipynb",
      "provenance": [],
      "authorship_tag": "ABX9TyNroB85hNxw8LbNhUtuu8ki",
      "include_colab_link": true
    },
    "kernelspec": {
      "name": "python3",
      "display_name": "Python 3"
    },
    "language_info": {
      "name": "python"
    }
  },
  "cells": [
    {
      "cell_type": "markdown",
      "metadata": {
        "id": "view-in-github",
        "colab_type": "text"
      },
      "source": [
        "<a href=\"https://colab.research.google.com/github/ugr-gowthamraj/Get-Forex-rate-using-python/blob/main/ExchangeRateCode.ipynb\" target=\"_parent\"><img src=\"https://colab.research.google.com/assets/colab-badge.svg\" alt=\"Open In Colab\"/></a>"
      ]
    },
    {
      "cell_type": "markdown",
      "metadata": {
        "id": "Mz-LlA5fapVf"
      },
      "source": [
        "#Install forex-python library"
      ]
    },
    {
      "cell_type": "code",
      "metadata": {
        "colab": {
          "base_uri": "https://localhost:8080/"
        },
        "id": "_sN_QUfad5H9",
        "outputId": "6e48d81e-f5a1-4004-b6f3-9a6bb7dbc6de"
      },
      "source": [
        "pip install forex-python"
      ],
      "execution_count": 1,
      "outputs": [
        {
          "output_type": "stream",
          "text": [
            "Collecting forex-python\n",
            "  Downloading https://files.pythonhosted.org/packages/1a/ff/f3f6da21e8fdc6ece355643871749c79a3191fed1cba088cbd0dc597dfee/forex-python-1.5.tar.gz\n",
            "Requirement already satisfied: requests in /usr/local/lib/python3.7/dist-packages (from forex-python) (2.23.0)\n",
            "Collecting simplejson\n",
            "\u001b[?25l  Downloading https://files.pythonhosted.org/packages/a8/04/377418ac1e530ce2a196b54c6552c018fdf1fe776718053efb1f216bffcd/simplejson-3.17.2-cp37-cp37m-manylinux2010_x86_64.whl (128kB)\n",
            "\u001b[K     |████████████████████████████████| 133kB 6.9MB/s \n",
            "\u001b[?25hRequirement already satisfied: urllib3!=1.25.0,!=1.25.1,<1.26,>=1.21.1 in /usr/local/lib/python3.7/dist-packages (from requests->forex-python) (1.24.3)\n",
            "Requirement already satisfied: chardet<4,>=3.0.2 in /usr/local/lib/python3.7/dist-packages (from requests->forex-python) (3.0.4)\n",
            "Requirement already satisfied: certifi>=2017.4.17 in /usr/local/lib/python3.7/dist-packages (from requests->forex-python) (2020.12.5)\n",
            "Requirement already satisfied: idna<3,>=2.5 in /usr/local/lib/python3.7/dist-packages (from requests->forex-python) (2.10)\n",
            "Building wheels for collected packages: forex-python\n",
            "  Building wheel for forex-python (setup.py) ... \u001b[?25l\u001b[?25hdone\n",
            "  Created wheel for forex-python: filename=forex_python-1.5-cp37-none-any.whl size=7235 sha256=b8d2e6f0465e7b3bf7e2018d0f275a4077bea307bc6247b723f302804abc4e11\n",
            "  Stored in directory: /root/.cache/pip/wheels/c9/ee/ce/a0c208e72d186b786b0c51914675bc03d1bf00b8ed9406271b\n",
            "Successfully built forex-python\n",
            "Installing collected packages: simplejson, forex-python\n",
            "Successfully installed forex-python-1.5 simplejson-3.17.2\n"
          ],
          "name": "stdout"
        }
      ]
    },
    {
      "cell_type": "markdown",
      "metadata": {
        "id": "oZjRqyhMaxCP"
      },
      "source": [
        "#Importing required libraries"
      ]
    },
    {
      "cell_type": "code",
      "metadata": {
        "id": "Yv0mg8oJfFNk"
      },
      "source": [
        "from forex_python.converter import CurrencyRates \n",
        "from datetime import date,timedelta\n",
        "import datetime\n",
        "import pandas as pd\n",
        "import numpy as np\n",
        "import matplotlib.pyplot as plt\n",
        "import array"
      ],
      "execution_count": 2,
      "outputs": []
    },
    {
      "cell_type": "markdown",
      "metadata": {
        "id": "dkTxdlfua3zZ"
      },
      "source": [
        "#Get today's exchange rate for the selected pair"
      ]
    },
    {
      "cell_type": "code",
      "metadata": {
        "colab": {
          "base_uri": "https://localhost:8080/"
        },
        "id": "jXyqo3bjeXn-",
        "outputId": "672bc49f-f270-4507-cd8c-f798aacafc10"
      },
      "source": [
        "c = CurrencyRates()\n",
        "local_currency = 'EUR' #@param [\"EUR\",\"IDR\",\"BGN\",\"ILS\",\"GBP\",\"DKK\",\"CAD\",\"JPY\",\"HUF\",\"RON\",\"MYR\",\"SEK\",\"SGD\",\"HKD\",\"AUD\",\"CHF\",\"KRW\",\"CNY\",\"TRY\",\"HRK\",\"NZD\",\"THB\",\"USD\",\"NOK\",\"RUB\",\"INR\",\"MXN\",\"CZK\",\"BRL\",\"PLN\",\"PHP\",\"ZAR\"]\n",
        "to_currency = 'INR' #@param [\"EUR\",\"IDR\",\"BGN\",\"ILS\",\"GBP\",\"DKK\",\"CAD\",\"JPY\",\"HUF\",\"RON\",\"MYR\",\"SEK\",\"SGD\",\"HKD\",\"AUD\",\"CHF\",\"KRW\",\"CNY\",\"TRY\",\"HRK\",\"NZD\",\"THB\",\"USD\",\"NOK\",\"RUB\",\"INR\",\"MXN\",\"CZK\",\"BRL\",\"PLN\",\"PHP\",\"ZAR\"]\n",
        "print(\"Current exchange rate of\",local_currency,\"/\",to_currency,\" = \",c.get_rate(local_currency, to_currency),\"(today's rate)\")"
      ],
      "execution_count": 6,
      "outputs": [
        {
          "output_type": "stream",
          "text": [
            "Current exchange rate of EUR / INR  =  89.289 (today's rate)\n"
          ],
          "name": "stdout"
        }
      ]
    },
    {
      "cell_type": "markdown",
      "metadata": {
        "id": "tO5zNUmEbAI1"
      },
      "source": [
        "#Get last one year exchange rate for the same"
      ]
    },
    {
      "cell_type": "code",
      "metadata": {
        "colab": {
          "base_uri": "https://localhost:8080/",
          "height": 555
        },
        "id": "hdIdmcK4aIQV",
        "outputId": "a072847f-d2d4-4e3f-d3f7-4228a3c363ae"
      },
      "source": [
        "now = datetime.datetime.now()\n",
        "start = datetime.datetime(now.year -1, now.month, now.day)\n",
        "end = datetime.datetime(now.year, now.month, now.day)\n",
        "start_date = start.strftime(\"%d/%m/%Y\")\n",
        "end_date = end.strftime(\"%d/%m/%Y\")\n",
        "print(\"Exchange Rate of \",local_currency,\"/\",to_currency,\"for last One year ( i.e. from \",start_date,\" to \",end_date,\" )\")\n",
        "day_count = (end - start).days + 1\n",
        "period=[]\n",
        "exrate=array.array('f',[])\n",
        "for tf in [d for d in (start + timedelta(n) for n in range(day_count)) if d <= end]:\n",
        "  er=c.get_rate(local_currency,to_currency,tf)\n",
        "  period.append(tf)\n",
        "  exrate.append(er)\n",
        "\n",
        "row=pd.DataFrame({'Date':period,'Exchange_rate':exrate})\n",
        "print(row)\n",
        "plt.plot(row['Date'],row['Exchange_rate'])\n",
        "plt.xlabel(\"Date\")  \n",
        "plt.ylabel(\"Rate\")  \n",
        "plt.show()"
      ],
      "execution_count": 7,
      "outputs": [
        {
          "output_type": "stream",
          "text": [
            "Exchange Rate of  EUR / INR for last One year ( i.e. from  11/05/2020  to  11/05/2021  )\n",
            "          Date  Exchange_rate\n",
            "0   2020-05-11      82.096001\n",
            "1   2020-05-12      81.593002\n",
            "2   2020-05-13      81.882500\n",
            "3   2020-05-14      81.592003\n",
            "4   2020-05-15      81.988503\n",
            "..         ...            ...\n",
            "361 2021-05-07      88.637497\n",
            "362 2021-05-08      88.637497\n",
            "363 2021-05-09      88.637497\n",
            "364 2021-05-10      89.258499\n",
            "365 2021-05-11      89.289001\n",
            "\n",
            "[366 rows x 2 columns]\n"
          ],
          "name": "stdout"
        },
        {
          "output_type": "display_data",
          "data": {
            "image/png": "[encoded data removed]",
            "text/plain": [
              "<Figure size 432x288 with 1 Axes>"
            ]
          },
          "metadata": {
            "tags": [],
            "needs_background": "light"
          }
        }
      ]
    }
  ]
}